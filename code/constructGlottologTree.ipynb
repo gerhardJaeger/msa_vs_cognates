{
  "cells": [
    {
      "cell_type": "markdown",
      "metadata": {},
      "source": [
        "---\n",
        "title: Construct the Glottolog tree\n",
        "format: html\n",
        "---"
      ]
    },
    {
      "cell_type": "markdown",
      "metadata": {},
      "source": [
        "Setting the working directory (just in case the IDE does something different), activate the local Julia environment, and load packages."
      ]
    },
    {
      "cell_type": "code",
      "execution_count": 1,
      "metadata": {},
      "outputs": [
        {
          "name": "stderr",
          "output_type": "stream",
          "text": [
            "\u001b[32m\u001b[1m  Activating\u001b[22m\u001b[39m project at `/localscratch/nwsja01/projects/research/msa_vs_cognates/code`\n"
          ]
        }
      ],
      "source": [
        "cd(@__DIR__)\n",
        "using Pkg; Pkg.activate(\".\"); Pkg.instantiate()\n",
        "using CSV, DataFrames\n",
        "using Pipe\n",
        "using ProgressMeter\n"
      ]
    },
    {
      "cell_type": "markdown",
      "metadata": {},
      "source": [
        "Installing the Python package `ete3` and loading it into Julia."
      ]
    },
    {
      "cell_type": "code",
      "execution_count": 2,
      "metadata": {},
      "outputs": [
        {
          "name": "stderr",
          "output_type": "stream",
          "text": [
            "\u001b[32m\u001b[1m    Building\u001b[22m\u001b[39m Conda ─→ `/localscratch/nwsja01/.julia/scratchspaces/44cfe95a-1eb2-52ea-b672-e2afdf69b78f/51cab8e982c5b598eea9c8ceaced4b58d9dd37c9/build.log`\n",
            "\u001b[32m\u001b[1m    Building\u001b[22m\u001b[39m PyCall → `/localscratch/nwsja01/.julia/scratchspaces/44cfe95a-1eb2-52ea-b672-e2afdf69b78f/9816a3826b0ebf49ab4926e2b18842ad8b5c8f04/build.log`\n"
          ]
        },
        {
          "data": {
            "text/plain": [
              "PyObject <module 'ete3' from '/localscratch/nwsja01/miniconda3/envs/msa/lib/python3.10/site-packages/ete3/__init__.py'>"
            ]
          },
          "metadata": {},
          "output_type": "display_data"
        }
      ],
      "source": [
        "ENV[\"PYTHON\"] = chomp(read(pipeline(`which python`), String))\n",
        "Pkg.build(\"PyCall\")\n",
        "using PyCall\n",
        "\n",
        "ete3 = pyimport(\"ete3\")"
      ]
    },
    {
      "cell_type": "markdown",
      "metadata": {},
      "source": [
        "Getting the Glottolog tree from the MPI website.\n"
      ]
    },
    {
      "cell_type": "code",
      "execution_count": 3,
      "metadata": {},
      "outputs": [
        {
          "data": {
            "text/plain": [
              "\"../data/tree_glottolog_newick.txt\""
            ]
          },
          "metadata": {},
          "output_type": "display_data"
        }
      ],
      "source": [
        "glottologF = \"../data/tree_glottolog_newick.txt\"\n",
        "\n",
        "isfile(glottologF) || download(\n",
        "    \"https://cdstar.eva.mpg.de//bitstreams/EAEA0-CFBC-1A89-0C8C-0/tree_glottolog_newick.txt\",\n",
        "    glottologF\n",
        ")"
      ]
    },
    {
      "cell_type": "markdown",
      "metadata": {},
      "source": [
        "Parsing the Glottolog familiy trees and cleaning them up."
      ]
    },
    {
      "cell_type": "code",
      "execution_count": 4,
      "metadata": {},
      "outputs": [],
      "source": [
        "raw = readlines(glottologF);"
      ]
    },
    {
      "cell_type": "code",
      "execution_count": 5,
      "metadata": {},
      "outputs": [],
      "source": [
        "trees = []\n",
        "\n",
        "for ln in raw\n",
        "    ln = strip(ln)\n",
        "    ln = replace(ln, r\"\\'\" => \"\")\n",
        "    ln = replace(ln, r\"\\'[A-ZÄÖÜ][^[]*\\[\" => \"[\")\n",
        "    ln = replace(ln, r\"\\][^']*\\'\" => \"]\")\n",
        "    ln = replace(ln, r\"\\[|\\]\" => \"\")\n",
        "    ln = replace(ln, \":1\" => \"\")\n",
        "    tree = ete3.Tree(ln, format = 1)\n",
        "    for nd in tree.traverse()\n",
        "        nd.name = split(nd.name)[end][1:8]\n",
        "    end\n",
        "    push!(trees, tree)\n",
        "end"
      ]
    },
    {
      "cell_type": "markdown",
      "metadata": {},
      "source": [
        "Combining the trees into a single tree."
      ]
    },
    {
      "cell_type": "code",
      "execution_count": 6,
      "metadata": {},
      "outputs": [
        {
          "name": "stderr",
          "output_type": "stream",
          "text": [
            "\u001b[32mProgress: 100%|█████████████████████████████████████████| Time: 0:02:09\u001b[39m\u001b[K\n"
          ]
        }
      ],
      "source": [
        "glot = ete3.Tree()\n",
        "\n",
        "for t in trees\n",
        "    glot.add_child(t)\n",
        "end\n",
        "\n",
        "nonLeaves = [nd.name for nd in glot.traverse()\n",
        "             if (nd.name != \"\") & !nd.is_leaf()\n",
        "]\n",
        "\n",
        "@showprogress for nm in nonLeaves\n",
        "    nd = (glot & nm)\n",
        "    nd.name = \"\"\n",
        "    nd.add_child(name = nm)\n",
        "end\n"
      ]
    },
    {
      "cell_type": "markdown",
      "metadata": {},
      "source": [
        "Pruning the tree to only include the taxa in the Lexibank dataset."
      ]
    },
    {
      "cell_type": "code",
      "execution_count": 7,
      "metadata": {},
      "outputs": [],
      "source": [
        "lxb = @pipe CSV.File(\"../data/wordlist_complete.csv\") |> \n",
        "    DataFrame |>\n",
        "    dropmissing(_, [:ASJP, :Cognateset_ID]) |>\n",
        "    filter(x -> x.ASJP != \"\", _)\n",
        "taxa = lxb.Glottocode |> unique\n",
        "\n",
        "glot_taxa = [nd.name for nd in glot.traverse() if nd.name != \"\"]\n",
        "\n",
        "missing_taxa = [x for x in taxa if x ∉ glot_taxa]\n",
        "\n",
        "for l in missing_taxa\n",
        "    glot.add_child(name = l)\n",
        "end\n",
        "\n",
        "glot.prune([(glot & l) for l in taxa])"
      ]
    },
    {
      "cell_type": "markdown",
      "metadata": {},
      "source": [
        "Saving the tree to a file."
      ]
    },
    {
      "cell_type": "code",
      "execution_count": 10,
      "metadata": {},
      "outputs": [
        {
          "data": {
            "text/plain": [
              "14481"
            ]
          },
          "metadata": {},
          "output_type": "display_data"
        }
      ],
      "source": [
        "open(\"../data/glottolog.tre\", \"w\") do io\n",
        "    write(io, glot.write(format = 9))\n",
        "end"
      ]
    },
    {
      "cell_type": "markdown",
      "metadata": {},
      "source": [
        "Creating individual trees for each dataset."
      ]
    },
    {
      "cell_type": "code",
      "execution_count": 11,
      "metadata": {},
      "outputs": [],
      "source": [
        "dbs = unique(lxb.db)\n",
        "mkpath(\"../data/glottolog_trees\")\n",
        "for db in dbs\n",
        "    db_taxa = filter(x -> x.db == db, lxb).Glottocode |> unique\n",
        "    if length(db_taxa) >= 10\n",
        "        db_glot = deepcopy(glot)\n",
        "        db_glot.prune([(db_glot & l) for l in db_taxa])\n",
        "        open(\"../data/glottolog_trees/$(db)_glottolog.tre\", \"w\") do io\n",
        "            write(io, db_glot.write(format = 9))\n",
        "        end\n",
        "    end\n",
        "end"
      ]
    },
    {
      "cell_type": "code",
      "execution_count": null,
      "metadata": {},
      "outputs": [],
      "source": []
    }
  ],
  "metadata": {
    "kernelspec": {
      "display_name": "Julia 1.10.3",
      "language": "julia",
      "name": "julia-1.10"
    },
    "language_info": {
      "file_extension": ".jl",
      "mimetype": "application/julia",
      "name": "julia",
      "version": "1.10.3"
    }
  },
  "nbformat": 4,
  "nbformat_minor": 4
}
