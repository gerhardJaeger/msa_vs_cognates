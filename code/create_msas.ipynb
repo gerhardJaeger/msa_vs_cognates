{
 "cells": [
  {
   "cell_type": "markdown",
   "metadata": {
    "vscode": {
     "languageId": "julia"
    }
   },
   "source": [
    "# Creating character matrices from multiple sequence alignments produced with tCoffee based on Needleman-Wunsch alignment with PMI distances from ASJP"
   ]
  },
  {
   "cell_type": "markdown",
   "metadata": {},
   "source": [
    "## Initialization and Environment Setup"
   ]
  },
  {
   "cell_type": "code",
   "execution_count": 1,
   "metadata": {},
   "outputs": [
    {
     "name": "stderr",
     "output_type": "stream",
     "text": [
      "\u001b[32m\u001b[1m  Activating\u001b[22m\u001b[39m project at `~/projects/research/msa_vs_cognates/code`\n"
     ]
    }
   ],
   "source": [
    "cd(@__DIR__)\n",
    "using Pkg\n",
    "Pkg.activate(\".\")\n",
    "Pkg.instantiate()\n"
   ]
  },
  {
   "cell_type": "markdown",
   "metadata": {},
   "source": [
    "## Package Imports and Dependencies"
   ]
  },
  {
   "cell_type": "code",
   "execution_count": 2,
   "metadata": {},
   "outputs": [
    {
     "data": {
      "text/plain": [
       "nwBlock"
      ]
     },
     "metadata": {},
     "output_type": "display_data"
    }
   ],
   "source": [
    "# Julia Packages\n",
    "using CSV\n",
    "using DataFrames\n",
    "using MCPhyloTree\n",
    "using ProgressMeter\n",
    "using Pipe\n",
    "using ArgCheck\n",
    "using Base.Threads\n",
    "using StatsPlots\n",
    "using StatsBase\n",
    "using RCall\n",
    "\n",
    "# Plotting backend\n",
    "plotlyjs()\n",
    "\n",
    "# Include external scripts\n",
    "include(\"alignment_functions.jl\")\n"
   ]
  },
  {
   "cell_type": "markdown",
   "metadata": {},
   "source": [
    "## Data Preparation and Cleaning"
   ]
  },
  {
   "cell_type": "code",
   "execution_count": 3,
   "metadata": {},
   "outputs": [
    {
     "data": {
      "text/html": [
       "<div><div style = \"float: left;\"><span>435691×13 DataFrame</span></div><div style = \"float: right;\"><span style = \"font-style: italic;\">435666 rows omitted</span></div><div style = \"clear: both;\"></div></div><div class = \"data-frame\" style = \"overflow-x: scroll;\"><table class = \"data-frame\" style = \"margin-bottom: 6px;\"><thead><tr class = \"header\"><th class = \"rowNumber\" style = \"font-weight: bold; text-align: right;\">Row</th><th style = \"text-align: left;\">db</th><th style = \"text-align: left;\">ID</th><th style = \"text-align: left;\">Language_ID</th><th style = \"text-align: left;\">Parameter_ID</th><th style = \"text-align: left;\">Segments</th><th style = \"text-align: left;\">Glottolog_Name</th><th style = \"text-align: left;\">Glottocode</th><th style = \"text-align: left;\">Family</th><th style = \"text-align: left;\">Concepticon_ID</th><th style = \"text-align: left;\">Concepticon_Gloss</th><th style = \"text-align: left;\">Cognateset_ID</th><th style = \"text-align: left;\">cc</th><th style = \"text-align: left;\">ASJP</th></tr><tr class = \"subheader headerLastRow\"><th class = \"rowNumber\" style = \"font-weight: bold; text-align: right;\"></th><th title = \"String31\" style = \"text-align: left;\">String31</th><th title = \"String\" style = \"text-align: left;\">String</th><th title = \"String\" style = \"text-align: left;\">String</th><th title = \"String\" style = \"text-align: left;\">String</th><th title = \"String\" style = \"text-align: left;\">String</th><th title = \"Union{Missing, String}\" style = \"text-align: left;\">String?</th><th title = \"String15\" style = \"text-align: left;\">String15</th><th title = \"Union{Missing, String31}\" style = \"text-align: left;\">String31?</th><th title = \"Union{Missing, Int64}\" style = \"text-align: left;\">Int64?</th><th title = \"String\" style = \"text-align: left;\">String</th><th title = \"String\" style = \"text-align: left;\">String</th><th title = \"Union{Missing, String}\" style = \"text-align: left;\">String?</th><th title = \"String\" style = \"text-align: left;\">String</th></tr></thead><tbody><tr><td class = \"rowNumber\" style = \"font-weight: bold; text-align: right;\">1</td><td style = \"text-align: left;\">abvdoceanic</td><td style = \"text-align: left;\">Banoni_4-1_hand-1</td><td style = \"text-align: left;\">Banoni_4</td><td style = \"text-align: left;\">1_hand</td><td style = \"text-align: left;\">n u m a</td><td style = \"text-align: left;\">Bannoni</td><td style = \"text-align: left;\">bann1247</td><td style = \"text-align: left;\">Austronesian</td><td style = \"text-align: right;\">1277</td><td style = \"text-align: left;\">HAND</td><td style = \"text-align: left;\">hand-1</td><td style = \"text-align: left;\">abvdoceanic:hand-1</td><td style = \"text-align: left;\">numa</td></tr><tr><td class = \"rowNumber\" style = \"font-weight: bold; text-align: right;\">2</td><td style = \"text-align: left;\">abvdoceanic</td><td style = \"text-align: left;\">Banoni_4-1_hand-1</td><td style = \"text-align: left;\">Banoni_4</td><td style = \"text-align: left;\">1_hand</td><td style = \"text-align: left;\">n u m a</td><td style = \"text-align: left;\">Bannoni</td><td style = \"text-align: left;\">bann1247</td><td style = \"text-align: left;\">Austronesian</td><td style = \"text-align: right;\">1277</td><td style = \"text-align: left;\">HAND</td><td style = \"text-align: left;\">hand-66</td><td style = \"text-align: left;\">abvdoceanic:hand-66</td><td style = \"text-align: left;\">numa</td></tr><tr><td class = \"rowNumber\" style = \"font-weight: bold; text-align: right;\">3</td><td style = \"text-align: left;\">abvdoceanic</td><td style = \"text-align: left;\">Banoni_4-2_left-1</td><td style = \"text-align: left;\">Banoni_4</td><td style = \"text-align: left;\">2_left</td><td style = \"text-align: left;\">t o r o r o n a</td><td style = \"text-align: left;\">Bannoni</td><td style = \"text-align: left;\">bann1247</td><td style = \"text-align: left;\">Austronesian</td><td style = \"text-align: right;\">244</td><td style = \"text-align: left;\">LEFT</td><td style = \"text-align: left;\">left-66</td><td style = \"text-align: left;\">abvdoceanic:left-66</td><td style = \"text-align: left;\">tororona</td></tr><tr><td class = \"rowNumber\" style = \"font-weight: bold; text-align: right;\">4</td><td style = \"text-align: left;\">abvdoceanic</td><td style = \"text-align: left;\">Banoni_4-3_right-1</td><td style = \"text-align: left;\">Banoni_4</td><td style = \"text-align: left;\">3_right</td><td style = \"text-align: left;\">m a t oː</td><td style = \"text-align: left;\">Bannoni</td><td style = \"text-align: left;\">bann1247</td><td style = \"text-align: left;\">Austronesian</td><td style = \"text-align: right;\">1019</td><td style = \"text-align: left;\">RIGHT</td><td style = \"text-align: left;\">right-5</td><td style = \"text-align: left;\">abvdoceanic:right-5</td><td style = \"text-align: left;\">mato</td></tr><tr><td class = \"rowNumber\" style = \"font-weight: bold; text-align: right;\">5</td><td style = \"text-align: left;\">abvdoceanic</td><td style = \"text-align: left;\">Banoni_4-3_right-1</td><td style = \"text-align: left;\">Banoni_4</td><td style = \"text-align: left;\">3_right</td><td style = \"text-align: left;\">m a t oː</td><td style = \"text-align: left;\">Bannoni</td><td style = \"text-align: left;\">bann1247</td><td style = \"text-align: left;\">Austronesian</td><td style = \"text-align: right;\">1019</td><td style = \"text-align: left;\">RIGHT</td><td style = \"text-align: left;\">right-13</td><td style = \"text-align: left;\">abvdoceanic:right-13</td><td style = \"text-align: left;\">mato</td></tr><tr><td class = \"rowNumber\" style = \"font-weight: bold; text-align: right;\">6</td><td style = \"text-align: left;\">abvdoceanic</td><td style = \"text-align: left;\">Banoni_4-5_towalk-1</td><td style = \"text-align: left;\">Banoni_4</td><td style = \"text-align: left;\">5_towalk</td><td style = \"text-align: left;\">v a n a v i d o</td><td style = \"text-align: left;\">Bannoni</td><td style = \"text-align: left;\">bann1247</td><td style = \"text-align: left;\">Austronesian</td><td style = \"text-align: right;\">1443</td><td style = \"text-align: left;\">WALK</td><td style = \"text-align: left;\">towalk-2</td><td style = \"text-align: left;\">abvdoceanic:towalk-2</td><td style = \"text-align: left;\">vanavido</td></tr><tr><td class = \"rowNumber\" style = \"font-weight: bold; text-align: right;\">7</td><td style = \"text-align: left;\">abvdoceanic</td><td style = \"text-align: left;\">Banoni_4-5_towalk-1</td><td style = \"text-align: left;\">Banoni_4</td><td style = \"text-align: left;\">5_towalk</td><td style = \"text-align: left;\">v a n a v i d o</td><td style = \"text-align: left;\">Bannoni</td><td style = \"text-align: left;\">bann1247</td><td style = \"text-align: left;\">Austronesian</td><td style = \"text-align: right;\">1443</td><td style = \"text-align: left;\">WALK</td><td style = \"text-align: left;\">towalk-64</td><td style = \"text-align: left;\">abvdoceanic:towalk-64</td><td style = \"text-align: left;\">vanavido</td></tr><tr><td class = \"rowNumber\" style = \"font-weight: bold; text-align: right;\">8</td><td style = \"text-align: left;\">abvdoceanic</td><td style = \"text-align: left;\">Banoni_4-6_roadpath-1</td><td style = \"text-align: left;\">Banoni_4</td><td style = \"text-align: left;\">6_roadpath</td><td style = \"text-align: left;\">s a n a n a</td><td style = \"text-align: left;\">Bannoni</td><td style = \"text-align: left;\">bann1247</td><td style = \"text-align: left;\">Austronesian</td><td style = \"text-align: right;\">2457</td><td style = \"text-align: left;\">PATH OR ROAD</td><td style = \"text-align: left;\">roadpath-1</td><td style = \"text-align: left;\">abvdoceanic:roadpath-1</td><td style = \"text-align: left;\">sanana</td></tr><tr><td class = \"rowNumber\" style = \"font-weight: bold; text-align: right;\">9</td><td style = \"text-align: left;\">abvdoceanic</td><td style = \"text-align: left;\">Banoni_4-7_tocome-1</td><td style = \"text-align: left;\">Banoni_4</td><td style = \"text-align: left;\">7_tocome</td><td style = \"text-align: left;\">m a</td><td style = \"text-align: left;\">Bannoni</td><td style = \"text-align: left;\">bann1247</td><td style = \"text-align: left;\">Austronesian</td><td style = \"text-align: right;\">1446</td><td style = \"text-align: left;\">COME</td><td style = \"text-align: left;\">tocome-1</td><td style = \"text-align: left;\">abvdoceanic:tocome-1</td><td style = \"text-align: left;\">ma</td></tr><tr><td class = \"rowNumber\" style = \"font-weight: bold; text-align: right;\">10</td><td style = \"text-align: left;\">abvdoceanic</td><td style = \"text-align: left;\">Banoni_4-7_tocome-2</td><td style = \"text-align: left;\">Banoni_4</td><td style = \"text-align: left;\">7_tocome</td><td style = \"text-align: left;\">t a i + m a</td><td style = \"text-align: left;\">Bannoni</td><td style = \"text-align: left;\">bann1247</td><td style = \"text-align: left;\">Austronesian</td><td style = \"text-align: right;\">1446</td><td style = \"text-align: left;\">COME</td><td style = \"text-align: left;\">tocome-1</td><td style = \"text-align: left;\">abvdoceanic:tocome-1</td><td style = \"text-align: left;\">taima</td></tr><tr><td class = \"rowNumber\" style = \"font-weight: bold; text-align: right;\">11</td><td style = \"text-align: left;\">abvdoceanic</td><td style = \"text-align: left;\">Banoni_4-9_toswim-1</td><td style = \"text-align: left;\">Banoni_4</td><td style = \"text-align: left;\">9_toswim</td><td style = \"text-align: left;\">s uː</td><td style = \"text-align: left;\">Bannoni</td><td style = \"text-align: left;\">bann1247</td><td style = \"text-align: left;\">Austronesian</td><td style = \"text-align: right;\">1439</td><td style = \"text-align: left;\">SWIM</td><td style = \"text-align: left;\">toswim-12</td><td style = \"text-align: left;\">abvdoceanic:toswim-12</td><td style = \"text-align: left;\">su</td></tr><tr><td class = \"rowNumber\" style = \"font-weight: bold; text-align: right;\">12</td><td style = \"text-align: left;\">abvdoceanic</td><td style = \"text-align: left;\">Banoni_4-12_skin-1</td><td style = \"text-align: left;\">Banoni_4</td><td style = \"text-align: left;\">12_skin</td><td style = \"text-align: left;\">k a b u n u</td><td style = \"text-align: left;\">Bannoni</td><td style = \"text-align: left;\">bann1247</td><td style = \"text-align: left;\">Austronesian</td><td style = \"text-align: right;\">763</td><td style = \"text-align: left;\">SKIN</td><td style = \"text-align: left;\">skin-98</td><td style = \"text-align: left;\">abvdoceanic:skin-98</td><td style = \"text-align: left;\">kabunu</td></tr><tr><td class = \"rowNumber\" style = \"font-weight: bold; text-align: right;\">13</td><td style = \"text-align: left;\">abvdoceanic</td><td style = \"text-align: left;\">Banoni_4-13_back-1</td><td style = \"text-align: left;\">Banoni_4</td><td style = \"text-align: left;\">13_back</td><td style = \"text-align: left;\">ts u gʱ i</td><td style = \"text-align: left;\">Bannoni</td><td style = \"text-align: left;\">bann1247</td><td style = \"text-align: left;\">Austronesian</td><td style = \"text-align: right;\">1291</td><td style = \"text-align: left;\">BACK</td><td style = \"text-align: left;\">back-12</td><td style = \"text-align: left;\">abvdoceanic:back-12</td><td style = \"text-align: left;\">tsugi</td></tr><tr><td style = \"text-align: right;\">&vellip;</td><td style = \"text-align: right;\">&vellip;</td><td style = \"text-align: right;\">&vellip;</td><td style = \"text-align: right;\">&vellip;</td><td style = \"text-align: right;\">&vellip;</td><td style = \"text-align: right;\">&vellip;</td><td style = \"text-align: right;\">&vellip;</td><td style = \"text-align: right;\">&vellip;</td><td style = \"text-align: right;\">&vellip;</td><td style = \"text-align: right;\">&vellip;</td><td style = \"text-align: right;\">&vellip;</td><td style = \"text-align: right;\">&vellip;</td><td style = \"text-align: right;\">&vellip;</td><td style = \"text-align: right;\">&vellip;</td></tr><tr><td class = \"rowNumber\" style = \"font-weight: bold; text-align: right;\">435680</td><td style = \"text-align: left;\">zhangrgyalrong</td><td style = \"text-align: left;\">OldChinese-282_thepulsebeans-1</td><td style = \"text-align: left;\">OldChinese</td><td style = \"text-align: left;\">282_thepulsebeans</td><td style = \"text-align: left;\">s tʰ u k</td><td style = \"text-align: left;\">Old Chinese</td><td style = \"text-align: left;\">oldc1244</td><td style = \"text-align: left;\">Sino-Tibetan</td><td style = \"text-align: right;\">832</td><td style = \"text-align: left;\">BEAN</td><td style = \"text-align: left;\">120</td><td style = \"text-align: left;\">zhangrgyalrong:120</td><td style = \"text-align: left;\">sthuk</td></tr><tr><td class = \"rowNumber\" style = \"font-weight: bold; text-align: right;\">435681</td><td style = \"text-align: left;\">zhangrgyalrong</td><td style = \"text-align: left;\">CogtseSitu-282_thepulsebeans-1</td><td style = \"text-align: left;\">CogtseSitu</td><td style = \"text-align: left;\">282_thepulsebeans</td><td style = \"text-align: left;\">t ɐ + s t ō k</td><td style = \"text-align: left;\">Maerkang</td><td style = \"text-align: left;\">maer1238</td><td style = \"text-align: left;\">Sino-Tibetan</td><td style = \"text-align: right;\">832</td><td style = \"text-align: left;\">BEAN</td><td style = \"text-align: left;\">120</td><td style = \"text-align: left;\">zhangrgyalrong:120</td><td style = \"text-align: left;\">tastok</td></tr><tr><td class = \"rowNumber\" style = \"font-weight: bold; text-align: right;\">435682</td><td style = \"text-align: left;\">zhangrgyalrong</td><td style = \"text-align: left;\">BragbarSitu-282_thepulsebeans-1</td><td style = \"text-align: left;\">BragbarSitu</td><td style = \"text-align: left;\">282_thepulsebeans</td><td style = \"text-align: left;\">t a + s t ɐ̄ k</td><td style = \"text-align: left;\">Maerkang</td><td style = \"text-align: left;\">maer1238</td><td style = \"text-align: left;\">Sino-Tibetan</td><td style = \"text-align: right;\">832</td><td style = \"text-align: left;\">BEAN</td><td style = \"text-align: left;\">120</td><td style = \"text-align: left;\">zhangrgyalrong:120</td><td style = \"text-align: left;\">tastak</td></tr><tr><td class = \"rowNumber\" style = \"font-weight: bold; text-align: right;\">435683</td><td style = \"text-align: left;\">zhangrgyalrong</td><td style = \"text-align: left;\">Japhug-282_thepulsebeans-1</td><td style = \"text-align: left;\">Japhug</td><td style = \"text-align: left;\">282_thepulsebeans</td><td style = \"text-align: left;\">s t o ʁ</td><td style = \"text-align: left;\">dGonpa</td><td style = \"text-align: left;\">dgon1234</td><td style = \"text-align: left;\">Sino-Tibetan</td><td style = \"text-align: right;\">832</td><td style = \"text-align: left;\">BEAN</td><td style = \"text-align: left;\">120</td><td style = \"text-align: left;\">zhangrgyalrong:120</td><td style = \"text-align: left;\">stoX</td></tr><tr><td class = \"rowNumber\" style = \"font-weight: bold; text-align: right;\">435684</td><td style = \"text-align: left;\">zhangrgyalrong</td><td style = \"text-align: left;\">OldChinese-305_thehorse-1</td><td style = \"text-align: left;\">OldChinese</td><td style = \"text-align: left;\">305_thehorse</td><td style = \"text-align: left;\">mˤ r a ʔ</td><td style = \"text-align: left;\">Old Chinese</td><td style = \"text-align: left;\">oldc1244</td><td style = \"text-align: left;\">Sino-Tibetan</td><td style = \"text-align: right;\">615</td><td style = \"text-align: left;\">HORSE</td><td style = \"text-align: left;\">121</td><td style = \"text-align: left;\">zhangrgyalrong:121</td><td style = \"text-align: left;\">mra7</td></tr><tr><td class = \"rowNumber\" style = \"font-weight: bold; text-align: right;\">435685</td><td style = \"text-align: left;\">zhangrgyalrong</td><td style = \"text-align: left;\">CogtseSitu-305_thehorse-1</td><td style = \"text-align: left;\">CogtseSitu</td><td style = \"text-align: left;\">305_thehorse</td><td style = \"text-align: left;\">m b r ō</td><td style = \"text-align: left;\">Maerkang</td><td style = \"text-align: left;\">maer1238</td><td style = \"text-align: left;\">Sino-Tibetan</td><td style = \"text-align: right;\">615</td><td style = \"text-align: left;\">HORSE</td><td style = \"text-align: left;\">121</td><td style = \"text-align: left;\">zhangrgyalrong:121</td><td style = \"text-align: left;\">mbro</td></tr><tr><td class = \"rowNumber\" style = \"font-weight: bold; text-align: right;\">435686</td><td style = \"text-align: left;\">zhangrgyalrong</td><td style = \"text-align: left;\">BragbarSitu-305_thehorse-1</td><td style = \"text-align: left;\">BragbarSitu</td><td style = \"text-align: left;\">305_thehorse</td><td style = \"text-align: left;\">m b r ō</td><td style = \"text-align: left;\">Maerkang</td><td style = \"text-align: left;\">maer1238</td><td style = \"text-align: left;\">Sino-Tibetan</td><td style = \"text-align: right;\">615</td><td style = \"text-align: left;\">HORSE</td><td style = \"text-align: left;\">121</td><td style = \"text-align: left;\">zhangrgyalrong:121</td><td style = \"text-align: left;\">mbro</td></tr><tr><td class = \"rowNumber\" style = \"font-weight: bold; text-align: right;\">435687</td><td style = \"text-align: left;\">zhangrgyalrong</td><td style = \"text-align: left;\">Japhug-305_thehorse-1</td><td style = \"text-align: left;\">Japhug</td><td style = \"text-align: left;\">305_thehorse</td><td style = \"text-align: left;\">m b r o</td><td style = \"text-align: left;\">dGonpa</td><td style = \"text-align: left;\">dgon1234</td><td style = \"text-align: left;\">Sino-Tibetan</td><td style = \"text-align: right;\">615</td><td style = \"text-align: left;\">HORSE</td><td style = \"text-align: left;\">121</td><td style = \"text-align: left;\">zhangrgyalrong:121</td><td style = \"text-align: left;\">mbro</td></tr><tr><td class = \"rowNumber\" style = \"font-weight: bold; text-align: right;\">435688</td><td style = \"text-align: left;\">zhangrgyalrong</td><td style = \"text-align: left;\">OldChinese-199_therabbithare-1</td><td style = \"text-align: left;\">OldChinese</td><td style = \"text-align: left;\">199_therabbithare</td><td style = \"text-align: left;\">l̥ˤ a s</td><td style = \"text-align: left;\">Old Chinese</td><td style = \"text-align: left;\">oldc1244</td><td style = \"text-align: left;\">Sino-Tibetan</td><td style = \"text-align: right;\">2345</td><td style = \"text-align: left;\">LEPORID (RABBIT OR HARE)</td><td style = \"text-align: left;\">122</td><td style = \"text-align: left;\">zhangrgyalrong:122</td><td style = \"text-align: left;\">las</td></tr><tr><td class = \"rowNumber\" style = \"font-weight: bold; text-align: right;\">435689</td><td style = \"text-align: left;\">zhangrgyalrong</td><td style = \"text-align: left;\">CogtseSitu-199_therabbithare-1</td><td style = \"text-align: left;\">CogtseSitu</td><td style = \"text-align: left;\">199_therabbithare</td><td style = \"text-align: left;\">k a + l ā</td><td style = \"text-align: left;\">Maerkang</td><td style = \"text-align: left;\">maer1238</td><td style = \"text-align: left;\">Sino-Tibetan</td><td style = \"text-align: right;\">2345</td><td style = \"text-align: left;\">LEPORID (RABBIT OR HARE)</td><td style = \"text-align: left;\">122</td><td style = \"text-align: left;\">zhangrgyalrong:122</td><td style = \"text-align: left;\">kala</td></tr><tr><td class = \"rowNumber\" style = \"font-weight: bold; text-align: right;\">435690</td><td style = \"text-align: left;\">zhangrgyalrong</td><td style = \"text-align: left;\">BragbarSitu-199_therabbithare-1</td><td style = \"text-align: left;\">BragbarSitu</td><td style = \"text-align: left;\">199_therabbithare</td><td style = \"text-align: left;\">k a + l i ɛ̄</td><td style = \"text-align: left;\">Maerkang</td><td style = \"text-align: left;\">maer1238</td><td style = \"text-align: left;\">Sino-Tibetan</td><td style = \"text-align: right;\">2345</td><td style = \"text-align: left;\">LEPORID (RABBIT OR HARE)</td><td style = \"text-align: left;\">122</td><td style = \"text-align: left;\">zhangrgyalrong:122</td><td style = \"text-align: left;\">kaliE</td></tr><tr><td class = \"rowNumber\" style = \"font-weight: bold; text-align: right;\">435691</td><td style = \"text-align: left;\">zhangrgyalrong</td><td style = \"text-align: left;\">Japhug-199_therabbithare-1</td><td style = \"text-align: left;\">Japhug</td><td style = \"text-align: left;\">199_therabbithare</td><td style = \"text-align: left;\">q a + l a</td><td style = \"text-align: left;\">dGonpa</td><td style = \"text-align: left;\">dgon1234</td><td style = \"text-align: left;\">Sino-Tibetan</td><td style = \"text-align: right;\">2345</td><td style = \"text-align: left;\">LEPORID (RABBIT OR HARE)</td><td style = \"text-align: left;\">122</td><td style = \"text-align: left;\">zhangrgyalrong:122</td><td style = \"text-align: left;\">qala</td></tr></tbody></table></div>"
      ],
      "text/latex": [
       "\\begin{tabular}{r|cccccc}\n",
       "\t& db & ID & Language\\_ID & Parameter\\_ID & Segments & \\\\\n",
       "\t\\hline\n",
       "\t& String31 & String & String & String & String & \\\\\n",
       "\t\\hline\n",
       "\t1 & abvdoceanic & Banoni\\_4-1\\_hand-1 & Banoni\\_4 & 1\\_hand & n u m a & $\\dots$ \\\\\n",
       "\t2 & abvdoceanic & Banoni\\_4-1\\_hand-1 & Banoni\\_4 & 1\\_hand & n u m a & $\\dots$ \\\\\n",
       "\t3 & abvdoceanic & Banoni\\_4-2\\_left-1 & Banoni\\_4 & 2\\_left & t o r o r o n a & $\\dots$ \\\\\n",
       "\t4 & abvdoceanic & Banoni\\_4-3\\_right-1 & Banoni\\_4 & 3\\_right & m a t oː & $\\dots$ \\\\\n",
       "\t5 & abvdoceanic & Banoni\\_4-3\\_right-1 & Banoni\\_4 & 3\\_right & m a t oː & $\\dots$ \\\\\n",
       "\t6 & abvdoceanic & Banoni\\_4-5\\_towalk-1 & Banoni\\_4 & 5\\_towalk & v a n a v i d o & $\\dots$ \\\\\n",
       "\t7 & abvdoceanic & Banoni\\_4-5\\_towalk-1 & Banoni\\_4 & 5\\_towalk & v a n a v i d o & $\\dots$ \\\\\n",
       "\t8 & abvdoceanic & Banoni\\_4-6\\_roadpath-1 & Banoni\\_4 & 6\\_roadpath & s a n a n a & $\\dots$ \\\\\n",
       "\t9 & abvdoceanic & Banoni\\_4-7\\_tocome-1 & Banoni\\_4 & 7\\_tocome & m a & $\\dots$ \\\\\n",
       "\t10 & abvdoceanic & Banoni\\_4-7\\_tocome-2 & Banoni\\_4 & 7\\_tocome & t a i + m a & $\\dots$ \\\\\n",
       "\t11 & abvdoceanic & Banoni\\_4-9\\_toswim-1 & Banoni\\_4 & 9\\_toswim & s uː & $\\dots$ \\\\\n",
       "\t12 & abvdoceanic & Banoni\\_4-12\\_skin-1 & Banoni\\_4 & 12\\_skin & k a b u n u & $\\dots$ \\\\\n",
       "\t13 & abvdoceanic & Banoni\\_4-13\\_back-1 & Banoni\\_4 & 13\\_back & ts u gʱ i & $\\dots$ \\\\\n",
       "\t14 & abvdoceanic & Banoni\\_4-14\\_belly-1 & Banoni\\_4 & 14\\_belly & k o b i & $\\dots$ \\\\\n",
       "\t15 & abvdoceanic & Banoni\\_4-15\\_bone-1 & Banoni\\_4 & 15\\_bone & s i p a n a & $\\dots$ \\\\\n",
       "\t16 & abvdoceanic & Banoni\\_4-16\\_intestines-1 & Banoni\\_4 & 16\\_intestines & k o r e & $\\dots$ \\\\\n",
       "\t17 & abvdoceanic & Banoni\\_4-17\\_liver-1 & Banoni\\_4 & 17\\_liver & d a t e & $\\dots$ \\\\\n",
       "\t18 & abvdoceanic & Banoni\\_4-18\\_breast-1 & Banoni\\_4 & 18\\_breast & s u & $\\dots$ \\\\\n",
       "\t19 & abvdoceanic & Banoni\\_4-21\\_tothink-1 & Banoni\\_4 & 21\\_tothink & v a r e k a n a & $\\dots$ \\\\\n",
       "\t20 & abvdoceanic & Banoni\\_4-25\\_neck-1 & Banoni\\_4 & 25\\_neck & k o k o r o m o & $\\dots$ \\\\\n",
       "\t21 & abvdoceanic & Banoni\\_4-26\\_hair-1 & Banoni\\_4 & 26\\_hair & p u n u & $\\dots$ \\\\\n",
       "\t22 & abvdoceanic & Banoni\\_4-27\\_nose-1 & Banoni\\_4 & 27\\_nose & v i v i ts i & $\\dots$ \\\\\n",
       "\t23 & abvdoceanic & Banoni\\_4-27\\_nose-2 & Banoni\\_4 & 27\\_nose & v i s u & $\\dots$ \\\\\n",
       "\t24 & abvdoceanic & Banoni\\_4-28\\_tobreathe-1 & Banoni\\_4 & 28\\_tobreathe & v a s a & $\\dots$ \\\\\n",
       "\t$\\dots$ & $\\dots$ & $\\dots$ & $\\dots$ & $\\dots$ & $\\dots$ &  \\\\\n",
       "\\end{tabular}\n"
      ],
      "text/plain": [
       "\u001b[1m435691×13 DataFrame\u001b[0m\n",
       "\u001b[1m    Row \u001b[0m│\u001b[1m db             \u001b[0m\u001b[1m ID                              \u001b[0m\u001b[1m Language_ID \u001b[0m\u001b[1m Parame\u001b[0m ⋯\n",
       "        │\u001b[90m String31       \u001b[0m\u001b[90m String                          \u001b[0m\u001b[90m String      \u001b[0m\u001b[90m String\u001b[0m ⋯\n",
       "────────┼───────────────────────────────────────────────────────────────────────\n",
       "      1 │ abvdoceanic     Banoni_4-1_hand-1                Banoni_4     1_hand ⋯\n",
       "      2 │ abvdoceanic     Banoni_4-1_hand-1                Banoni_4     1_hand\n",
       "      3 │ abvdoceanic     Banoni_4-2_left-1                Banoni_4     2_left\n",
       "      4 │ abvdoceanic     Banoni_4-3_right-1               Banoni_4     3_righ\n",
       "      5 │ abvdoceanic     Banoni_4-3_right-1               Banoni_4     3_righ ⋯\n",
       "      6 │ abvdoceanic     Banoni_4-5_towalk-1              Banoni_4     5_towa\n",
       "      7 │ abvdoceanic     Banoni_4-5_towalk-1              Banoni_4     5_towa\n",
       "      8 │ abvdoceanic     Banoni_4-6_roadpath-1            Banoni_4     6_road\n",
       "   ⋮    │       ⋮                        ⋮                      ⋮              ⋱\n",
       " 435685 │ zhangrgyalrong  CogtseSitu-305_thehorse-1        CogtseSitu   305_th ⋯\n",
       " 435686 │ zhangrgyalrong  BragbarSitu-305_thehorse-1       BragbarSitu  305_th\n",
       " 435687 │ zhangrgyalrong  Japhug-305_thehorse-1            Japhug       305_th\n",
       " 435688 │ zhangrgyalrong  OldChinese-199_therabbithare-1   OldChinese   199_th\n",
       " 435689 │ zhangrgyalrong  CogtseSitu-199_therabbithare-1   CogtseSitu   199_th ⋯\n",
       " 435690 │ zhangrgyalrong  BragbarSitu-199_therabbithare-1  BragbarSitu  199_th\n",
       " 435691 │ zhangrgyalrong  Japhug-199_therabbithare-1       Japhug       199_th\n",
       "\u001b[36m                                              10 columns and 435676 rows omitted\u001b[0m"
      ]
     },
     "metadata": {},
     "output_type": "display_data"
    }
   ],
   "source": [
    "wl = @pipe CSV.File(\"../data/lexibank_wordlist_pruned.csv\") |>\n",
    "           DataFrame |>\n",
    "           dropmissing(_, [:ASJP, :Cognateset_ID]) |>\n",
    "           filter(x -> x.ASJP != \"\", _)"
   ]
  },
  {
   "cell_type": "code",
   "execution_count": 4,
   "metadata": {},
   "outputs": [
    {
     "data": {
      "text/plain": [
       "60-element Vector{String31}:\n",
       " \"abvdoceanic\"\n",
       " \"bdpa\"\n",
       " \"birchallchapacuran\"\n",
       " \"bodtkhobwa\"\n",
       " \"bowernpny\"\n",
       " \"cals\"\n",
       " \"carvalhopurus\"\n",
       " \"chaconarawakan\"\n",
       " \"chaconbaniwa\"\n",
       " \"chaconcolumbian\"\n",
       " ⋮\n",
       " \"starostinhmongmien\"\n",
       " \"starostinkaren\"\n",
       " \"starostintujia\"\n",
       " \"syrjaenenuralic\"\n",
       " \"utoaztecan\"\n",
       " \"walworthpolynesian\"\n",
       " \"wichmannmixezoquean\"\n",
       " \"yanglalo\"\n",
       " \"zhangrgyalrong\""
      ]
     },
     "metadata": {},
     "output_type": "display_data"
    }
   ],
   "source": [
    "# Load datasets\n",
    "dbs = unique(wl.db)"
   ]
  },
  {
   "cell_type": "markdown",
   "metadata": {},
   "source": [
    "## Function Definitions"
   ]
  },
  {
   "cell_type": "markdown",
   "metadata": {},
   "source": [
    "### PMI Calculation"
   ]
  },
  {
   "cell_type": "code",
   "execution_count": 5,
   "metadata": {},
   "outputs": [
    {
     "data": {
      "text/plain": [
       "pmiStar (generic function with 1 method)"
      ]
     },
     "metadata": {},
     "output_type": "display_data"
    }
   ],
   "source": [
    "function pmiStar(w1::Union{Missing,String}, w2::Union{Missing,String}, p::NW)\n",
    "    if ismissing(w1) || ismissing(w2)\n",
    "        return missing\n",
    "    end\n",
    "    v1 = split(w1, \"-\")\n",
    "    v2 = split(w2, \"-\")\n",
    "    scores = Vector{Float64}(undef, length(v1) * length(v2))\n",
    "    counter = 1\n",
    "    for x in v1\n",
    "        for y in v2\n",
    "            @inbounds scores[counter] = nw(x, y, p)\n",
    "            counter += 1\n",
    "        end\n",
    "    end\n",
    "    maximum(scores)\n",
    "end\n"
   ]
  },
  {
   "cell_type": "markdown",
   "metadata": {},
   "source": [
    "### Tree and Matrix Functions"
   ]
  },
  {
   "cell_type": "code",
   "execution_count": 6,
   "metadata": {},
   "outputs": [
    {
     "data": {
      "text/plain": [
       "get_alignment (generic function with 1 method)"
      ]
     },
     "metadata": {},
     "output_type": "display_data"
    }
   ],
   "source": [
    "function dercPMI(\n",
    "    i::Int,\n",
    "    j::Int,\n",
    "    p::NW,\n",
    "    dMtx::Matrix{Union{Missing,String}}=dMtx,\n",
    "    maxSim::Float64=maxSim,\n",
    "    minSim::Float64=minSim,\n",
    ")\n",
    "    defined1 = findall(.!ismissing.(dMtx[i, :]))\n",
    "    defined2 = findall(.!ismissing.(dMtx[j, :]))\n",
    "    definedBoth = intersect(defined1, defined2)\n",
    "    nBoth = length(definedBoth)\n",
    "    if nBoth == 0\n",
    "        return missing\n",
    "    end\n",
    "    dg = Vector{Float64}(undef, nBoth)\n",
    "    for (k, c) in enumerate(definedBoth)\n",
    "        dg[k] = pmiStar(dMtx[i, c], dMtx[j, c], p)\n",
    "    end\n",
    "    nOffD = length(defined1) * length(defined2) - nBoth\n",
    "    offDg = Vector{Float64}(undef, nOffD)\n",
    "    counter = 1\n",
    "    for k1 in defined1\n",
    "        w1 = dMtx[i, k1]\n",
    "        for k2 in defined2\n",
    "            if k1 != k2\n",
    "                w2 = dMtx[j, k2]\n",
    "                @inbounds offDg[counter] = pmiStar(w1, w2, p)\n",
    "                counter += 1\n",
    "            end\n",
    "        end\n",
    "    end\n",
    "    ranks = Vector{Float64}(undef, nBoth)\n",
    "    for k = 1:nBoth\n",
    "        @inbounds x = dg[k]\n",
    "        @inbounds ranks[k] = geomean(1 .+ (sum(offDg .> x):sum(offDg .>= x)))\n",
    "    end\n",
    "    stc = mean(-log.(ranks ./ (1 + nOffD)))\n",
    "    sim = (stc - 1) * sqrt(nBoth)\n",
    "    (maxSim - sim) / (maxSim - minSim)\n",
    "end\n",
    "\n",
    "\n",
    "function tCoffee(guide_tree; pmiPar::NW=pmiPar)\n",
    "    words = [string(split(x.name, \":\")[2]) for x in get_leaves(guide_tree)]\n",
    "    taxa = [string(split(x.name, \":\")[1]) for x in get_leaves(guide_tree)]\n",
    "    extLibrary = createExtendedLibrary(words; pmiPar=pmiPar)\n",
    "    alHistory = Dict()\n",
    "    nums = Dict()\n",
    "    for nd in post_order(guide_tree)\n",
    "        if length(nd.children) == 0\n",
    "            w = string(split(nd.name, \":\")[2])\n",
    "            alHistory[nd.num] = reshape(collect(w), :, 1)\n",
    "            nums[nd.num] = [nd.num]\n",
    "        elseif length(nd.children) == 1\n",
    "            alHistory[nd.num] = alHistory[nd.children[1].num]\n",
    "            nums[nd.num] = [nums[nd.children[1].num]]\n",
    "        else\n",
    "            ch1, ch2 = nd.children\n",
    "            al1 = alHistory[ch1.num]\n",
    "            al2 = alHistory[ch2.num]\n",
    "            nums1 = nums[ch1.num]\n",
    "            nums2 = nums[ch2.num]\n",
    "            alHistory[nd.num] = nwBlock(al1, al2, extLibrary)\n",
    "            nums[nd.num] = vcat(nums1, nums2)\n",
    "        end\n",
    "    end\n",
    "    df = DataFrame(permutedims(alHistory[guide_tree.num]), :auto)\n",
    "    insertcols!(df, 1, :language => taxa)\n",
    "    df\n",
    "end\n",
    "\n",
    "\n",
    "function create_guide_tree(data::DataFrame; tree::GeneralNode=tree)\n",
    "    words2lang = @pipe data |>\n",
    "                       zip(_.ASJP, _.Glottocode)\n",
    "    words = first.(words2lang)\n",
    "    taxa = last.(values(words2lang))\n",
    "    unique_taxa = unique(taxa)\n",
    "    guide_tree = deepcopy(tree)\n",
    "    for nd in post_order(guide_tree)\n",
    "        if nd.nchild == 0 && nd.name ∉ unique_taxa && !isroot(nd)\n",
    "            mother = get_mother(nd)\n",
    "            remove_child!(mother, nd)\n",
    "        end\n",
    "    end\n",
    "    while guide_tree.nchild == 1\n",
    "        guide_tree = guide_tree.children[1]\n",
    "    end\n",
    "    for nd in post_order(guide_tree)\n",
    "        if (nd.nchild == 1)\n",
    "            delete_node!(nd)\n",
    "        end\n",
    "    end\n",
    "    for nd in get_leaves(guide_tree)\n",
    "        language = nd.name\n",
    "        nd_words = words[findall(taxa .== language)]\n",
    "        while length(nd_words) > 1\n",
    "            nd1 = Node()\n",
    "            nd2 = Node()\n",
    "            nd1.name = pop!(nd_words)\n",
    "            nd1.name = language * \":\" * nd1.name\n",
    "            add_child!(nd, nd1)\n",
    "            add_child!(nd, nd2)\n",
    "            nd = nd2\n",
    "        end\n",
    "        nd.name = nd_words[1]\n",
    "        nd.name = language * \":\" * nd.name\n",
    "    end\n",
    "\n",
    "    for (i, nd) in enumerate(post_order(guide_tree))\n",
    "        nd.num = i\n",
    "    end\n",
    "    guide_tree\n",
    "end\n",
    "\n",
    "\n",
    "\n",
    "function get_alignment(data::DataFrame; tree::GeneralNode=tree, pmiPar::NW=pmiPar)\n",
    "    guide_tree = create_guide_tree(data; tree=tree)\n",
    "    al = tCoffee(guide_tree)\n",
    "end"
   ]
  },
  {
   "cell_type": "markdown",
   "metadata": {},
   "source": [
    "## Get PMI Parameters"
   ]
  },
  {
   "cell_type": "code",
   "execution_count": 7,
   "metadata": {},
   "outputs": [
    {
     "data": {
      "text/plain": [
       "NW{Char}(['!', '3', '4', '5', '7', '8', 'C', 'E', 'G', 'L'  …  'q', 'r', 's', 't', 'u', 'v', 'w', 'x', 'y', 'z'], Dict(('S', 'h') => -1.0026989942589113, ('s', 'S') => 2.318288217979542, ('j', 'N') => -1.7826427822252349, ('G', 'G') => 7.801431036430333, ('X', 'w') => -2.780066286502958, ('X', 'i') => -4.154471127478828, ('T', 'n') => -4.322710572125696, ('7', 'G') => 0.6133857200649624, ('G', 'y') => -0.454410510043628, ('T', 'v') => -1.70134002370793…), 2.41772332742949, 1.5084822877429087)"
      ]
     },
     "metadata": {},
     "output_type": "display_data"
    }
   ],
   "source": [
    "par = CSV.read(\"../data/pmiParameters.csv\", DataFrame)\n",
    "\n",
    "pmi = CSV.read(\"../data/pmi.csv\", DataFrame)[:, 2:end] |> Array\n",
    "\n",
    "sounds = first.(CSV.read(\"../data/pmi.csv\", DataFrame)[:, 1])\n",
    "\n",
    "pmiDict = Dict{Tuple{Char,Char},Float64}()\n",
    "\n",
    "for (i, s1) in enumerate(sounds), (j, s2) in enumerate(sounds)\n",
    "    pmiDict[s1, s2] = pmi[i, j]\n",
    "end\n",
    "\n",
    "pmiPar = NW(\n",
    "    sounds,\n",
    "    pmiDict,\n",
    "    par[1, 1],\n",
    "    par[1, 2],\n",
    ")\n"
   ]
  },
  {
   "cell_type": "markdown",
   "metadata": {},
   "source": [
    "## Main Execution Flow"
   ]
  },
  {
   "cell_type": "code",
   "execution_count": 8,
   "metadata": {},
   "outputs": [
    {
     "data": {
      "text/plain": [
       "compute_pmidists (generic function with 1 method)"
      ]
     },
     "metadata": {},
     "output_type": "display_data"
    }
   ],
   "source": [
    "function compute_pmidists(languages, dMtx, pmiPar, maxSim, minSim)\n",
    "    index_pairs = [(i, j) for i in 1:length(languages), j in 1:length(languages) if i < j]\n",
    "    pmidists = zeros(Union{Float64,Missing}, (length(languages), length(languages)))\n",
    "    @showprogress @threads for (i, j) in index_pairs\n",
    "        pmidists[i, j] = pmidists[j, i] = dercPMI(i, j, pmiPar, dMtx, maxSim, minSim)\n",
    "    end\n",
    "    pmidists[ismissing.(pmidists)] .= mean(skipmissing(pmidists))\n",
    "    return pmidists\n",
    "end\n"
   ]
  },
  {
   "cell_type": "code",
   "execution_count": 9,
   "metadata": {},
   "outputs": [
    {
     "data": {
      "text/plain": [
       "build_tree (generic function with 1 method)"
      ]
     },
     "metadata": {},
     "output_type": "display_data"
    }
   ],
   "source": [
    "function build_tree(pmidists, languages)\n",
    "    tree = upgma(convert(Matrix{Float64}, pmidists), convert(Vector{String}, languages))\n",
    "end\n"
   ]
  },
  {
   "cell_type": "code",
   "execution_count": 10,
   "metadata": {},
   "outputs": [
    {
     "data": {
      "text/plain": [
       "get_alignments (generic function with 1 method)"
      ]
     },
     "metadata": {},
     "output_type": "display_data"
    }
   ],
   "source": [
    "function get_alignments(concepts, d, tree)\n",
    "    alignments = Dict()\n",
    "    for c in concepts\n",
    "        data = filter(x -> x.Concepticon_Gloss == c, d)\n",
    "        alignments[c] = get_alignment(data; tree=tree)\n",
    "    end\n",
    "    return alignments\n",
    "end"
   ]
  },
  {
   "cell_type": "code",
   "execution_count": 11,
   "metadata": {},
   "outputs": [
    {
     "data": {
      "text/plain": [
       "create_character_matrix (generic function with 1 method)"
      ]
     },
     "metadata": {},
     "output_type": "display_data"
    }
   ],
   "source": [
    "function create_character_matrix(concepts, alignments)\n",
    "    concept_char_mtc = []\n",
    "    for c in concepts\n",
    "        al = alignments[c]\n",
    "        @pipe al |>\n",
    "              1 .- ismissing.(Array(_[:, 2:end])) |>\n",
    "              DataFrame(_, :auto) |>\n",
    "              insertcols!(_, 1, :language => al.language) |>\n",
    "              groupby(_, :language) |>\n",
    "              combine(_, names(_, Not(:language)) .=> maximum) |>\n",
    "              push!(concept_char_mtc, _)\n",
    "    end\n",
    "    char_mtx = outerjoin(concept_char_mtc..., on=:language, makeunique=true)\n",
    "end"
   ]
  },
  {
   "cell_type": "code",
   "execution_count": 12,
   "metadata": {},
   "outputs": [
    {
     "data": {
      "text/plain": [
       "write_nexus_file (generic function with 1 method)"
      ]
     },
     "metadata": {},
     "output_type": "display_data"
    }
   ],
   "source": [
    "function write_nexus_file(char_mtx, db_name)\n",
    "    nex = \"\"\"\n",
    "    #NEXUS\n",
    "\n",
    "    Begin data;\n",
    "    Dimensions ntax=$(size(char_mtx, 1)) nchar = $(size(char_mtx, 2) - 1);\n",
    "    Format datatype=restriction gap=-;\n",
    "    MATRIX\n",
    "    \"\"\"\n",
    "    pad = maximum(length.(char_mtx.language)) + 5\n",
    "    for i in 1:size(char_mtx, 1)\n",
    "        l = char_mtx.language[i]\n",
    "        ln = \"   \" * rpad(l, pad)\n",
    "        row = join(replace(char_mtx[i, 2:end] |> Vector, missing => \"-\"))\n",
    "        ln *= row * \"\\n\"\n",
    "        nex *= ln\n",
    "    end\n",
    "    nex *= \"\"\"\n",
    "    ;\n",
    "    End;\n",
    "    \"\"\"\n",
    "    open(joinpath(\"mrbayes\", \"$(db_name)_msa.nex\"), \"w\") do f\n",
    "        write(f, nex)\n",
    "    end\n",
    "end"
   ]
  },
  {
   "cell_type": "code",
   "execution_count": 13,
   "metadata": {},
   "outputs": [
    {
     "data": {
      "text/plain": [
       "write_phylip_file (generic function with 1 method)"
      ]
     },
     "metadata": {},
     "output_type": "display_data"
    }
   ],
   "source": [
    "function write_phylip_file(char_mtx, db_name)\n",
    "    mkpath(\"phylip\")\n",
    "    phy = \"\"\"\n",
    "    $(size(char_mtx, 1)) $(size(char_mtx, 2) - 1)\n",
    "    \"\"\"\n",
    "    pad = maximum(length.(char_mtx.language)) + 5\n",
    "    for i in 1:size(char_mtx, 1)\n",
    "        l = char_mtx.language[i]\n",
    "        ln = \"   \" * rpad(l, pad)\n",
    "        row = join(replace(char_mtx[i, 2:end] |> Vector, missing => \"-\"))\n",
    "        ln *= row * \"\\n\"\n",
    "        phy *= ln\n",
    "    end\n",
    "    open(joinpath(\"phylip\", \"$(db_name)_msa.phy\"), \"w\") do f\n",
    "        write(f, phy)\n",
    "    end\n",
    "end"
   ]
  },
  {
   "cell_type": "code",
   "execution_count": 14,
   "metadata": {},
   "outputs": [
    {
     "data": {
      "text/plain": [
       "write_mrbayes_file (generic function with 1 method)"
      ]
     },
     "metadata": {},
     "output_type": "display_data"
    }
   ],
   "source": [
    "function write_mrbayes_file(db_name)\n",
    "    mb = \"\"\"#Nexus\n",
    "    Begin MrBayes;\n",
    "        execute $(db_name)_msa.nex;\n",
    "        prset brlenspr = clock:uniform;\n",
    "        prset clockvarpr = igr;\n",
    "        lset rates=gamma;\n",
    "        lset covarion=yes;\n",
    "        prset clockratepr=exp(1.0);\n",
    "        lset coding=noabsencesites;\n",
    "        mcmcp stoprule=no stopval=0.01 filename=output/$(db_name)_msa samplefreq=1000;\n",
    "        mcmc ngen=10000000 nchains=2 nruns=2 append=no;\n",
    "        sumt;\n",
    "        sump;\n",
    "        q;\n",
    "    end;\n",
    "    \"\"\"\n",
    "    open(joinpath(\"mrbayes\", \"$(db_name)_msa.mb.nex\"), \"w\") do f\n",
    "        write(f, mb)\n",
    "    end\n",
    "end\n"
   ]
  },
  {
   "cell_type": "code",
   "execution_count": 11,
   "metadata": {},
   "outputs": [
    {
     "ename": "UndefVarError",
     "evalue": "UndefVarError: `wl` not defined",
     "output_type": "error",
     "traceback": [
      "UndefVarError: `wl` not defined\n",
      "\n",
      "Stacktrace:\n",
      " [1] top-level scope\n",
      "   @ ~/projects/research/msa_vs_cognates/code/create_msas.ipynb:2"
     ]
    }
   ],
   "source": [
    "db = \"ratcliffearabic\"\n",
    "d = filter(x -> x.db == db, wl)\n",
    "concepts = unique(d.Concepticon_Gloss)\n",
    "languages = unique(d.Glottocode)\n",
    "d_wide = unstack(d, :Glottocode, :Concepticon_Gloss, :ASJP, allowmissing=true, combine=x -> join(unique(x), \"-\"))\n",
    "ln2index = Dict(zip(d_wide.Glottocode, 1:size(d_wide, 1)))\n",
    "dMtx = Matrix(d_wide[:, 2:end])\n",
    "nconcepts = length(concepts)\n",
    "minSim = -sqrt(nconcepts)\n",
    "maxSim = (log(nconcepts * (nconcepts - 1) + 1) - 1) * sqrt(nconcepts)\n",
    "pmidists = compute_pmidists(languages, dMtx, pmiPar, maxSim, minSim)\n",
    "tree = build_tree(pmidists, languages)\n",
    "alignments = get_alignments(concepts, d, tree)"
   ]
  },
  {
   "cell_type": "code",
   "execution_count": 10,
   "metadata": {},
   "outputs": [
    {
     "ename": "UndefVarError",
     "evalue": "UndefVarError: `alignments` not defined",
     "output_type": "error",
     "traceback": [
      "UndefVarError: `alignments` not defined\n",
      "\n",
      "Stacktrace:\n",
      " [1] top-level scope\n",
      "   @ ~/projects/research/msa_vs_cognates/code/create_msas.ipynb:1"
     ]
    }
   ],
   "source": [
    "coalesce.(collect(values(alignments))[21], \"\")"
   ]
  },
  {
   "cell_type": "code",
   "execution_count": 15,
   "metadata": {},
   "outputs": [
    {
     "name": "stderr",
     "output_type": "stream",
     "text": [
      "┌ Info: Processing abvdoceanic\n",
      "└ @ Main /localscratch/nwsja01/projects/msa_vs_cognates/code/create_msas.ipynb:2\n",
      "\u001b[32mProgress:   1%|▎                                        |  ETA: 7:37:27\u001b[39m\u001b[KK[39m\u001b[K"
     ]
    }
   ],
   "source": [
    "for db ∈ dbs\n",
    "    @info \"Processing $db\"\n",
    "    d = filter(x -> x.db == db, wl)\n",
    "    languages = unique(d.Glottocode)\n",
    "    if length(languages) < 4\n",
    "        @warn \"Skipping $db: Not enough languages\"\n",
    "        continue\n",
    "    end\n",
    "    concepts = unique(d.Concepticon_Gloss)\n",
    "    d_wide = unstack(d, :Glottocode, :Concepticon_Gloss, :ASJP, allowmissing=true, combine=x -> join(unique(x), \"-\"))\n",
    "    ln2index = Dict(zip(d_wide.Glottocode, 1:size(d_wide, 1)))\n",
    "    dMtx = Matrix(d_wide[:, 2:end])\n",
    "    nconcepts = length(concepts)\n",
    "    minSim = -sqrt(nconcepts)\n",
    "    maxSim = (log(nconcepts * (nconcepts - 1) + 1) - 1) * sqrt(nconcepts)\n",
    "    pmidists = compute_pmidists(languages, dMtx, pmiPar, maxSim, minSim)\n",
    "    tree = build_tree(pmidists, languages)\n",
    "    alignments = get_alignments(concepts, d, tree)\n",
    "    char_mtx = create_character_matrix(concepts, alignments)\n",
    "    db_name = split(split(db, \"/\")[end], \".\")[1]\n",
    "    write_nexus_file(char_mtx, db_name)\n",
    "    write_phylip_file(char_mtx, db_name)\n",
    "    write_mrbayes_file(db_name)\n",
    "end"
   ]
  }
 ],
 "metadata": {
  "kernelspec": {
   "display_name": "Julia 1.10.3",
   "language": "julia",
   "name": "julia-1.10"
  },
  "language_info": {
   "file_extension": ".jl",
   "mimetype": "application/julia",
   "name": "julia",
   "version": "1.10.3"
  }
 },
 "nbformat": 4,
 "nbformat_minor": 2
}
